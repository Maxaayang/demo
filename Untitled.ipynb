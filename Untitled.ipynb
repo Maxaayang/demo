{
 "cells": [
  {
   "cell_type": "code",
   "execution_count": null,
   "id": "55e6e072",
   "metadata": {},
   "outputs": [],
   "source": [
    "!git clone https://github.com/Maxaayang/demo.git"
   ]
  },
  {
   "cell_type": "code",
   "execution_count": null,
   "id": "6998d830",
   "metadata": {},
   "outputs": [],
   "source": [
    "cd demo/\n",
    "!pip install pretty_midi\n",
    "!apt install musescore fluidsynth\n",
    "!pip install music21 pyFluidSynth"
   ]
  },
  {
   "cell_type": "code",
   "execution_count": 1,
   "id": "6877b768",
   "metadata": {},
   "outputs": [],
   "source": [
    "import model\n",
    "# import train\n",
    "import util\n",
    "from preprocess_midi import *\n",
    "\n",
    "import pickle\n",
    "# from torchvision import models\n",
    "import torch\n",
    "import IPython.display as ipd\n",
    "import os\n",
    "import pretty_midi\n",
    "import numpy as np"
   ]
  },
  {
   "cell_type": "code",
   "execution_count": 2,
   "id": "67fce139",
   "metadata": {},
   "outputs": [],
   "source": [
    "# model = model.VQVAE()\n",
    "model = torch.load(\"./model/model200.pth\")"
   ]
  },
  {
   "cell_type": "code",
   "execution_count": 3,
   "id": "c76a8744",
   "metadata": {},
   "outputs": [],
   "source": [
    "melody_file = './r_data/e6a4afe05f022c891bfe081d4be261db.mid'"
   ]
  },
  {
   "cell_type": "code",
   "execution_count": 4,
   "id": "43bdd40f",
   "metadata": {},
   "outputs": [],
   "source": [
    "piano_roll, bar_indices,pm_old = preprocess_midi(melody_file)\n",
    "piano_roll_new = np.reshape(piano_roll,(-1,piano_roll.shape[-1]))\n",
    "pm_new = util.roll_to_pretty_midi(piano_roll_new,pm_old)"
   ]
  },
  {
   "cell_type": "code",
   "execution_count": 5,
   "id": "a493841d",
   "metadata": {},
   "outputs": [
    {
     "ename": "ImportError",
     "evalue": "fluidsynth() was called but pyfluidsynth is not installed.",
     "output_type": "error",
     "traceback": [
      "\u001b[0;31m---------------------------------------------------------------------------\u001b[0m",
      "\u001b[0;31mImportError\u001b[0m                               Traceback (most recent call last)",
      "Input \u001b[0;32mIn [5]\u001b[0m, in \u001b[0;36m<cell line: 2>\u001b[0;34m()\u001b[0m\n\u001b[1;32m      1\u001b[0m \u001b[38;5;66;03m# the original file music\u001b[39;00m\n\u001b[0;32m----> 2\u001b[0m ipd\u001b[38;5;241m.\u001b[39mAudio(\u001b[43mpm_old\u001b[49m\u001b[38;5;241;43m.\u001b[39;49m\u001b[43mfluidsynth\u001b[49m\u001b[43m(\u001b[49m\u001b[43mfs\u001b[49m\u001b[38;5;241;43m=\u001b[39;49m\u001b[38;5;241;43m16000\u001b[39;49m\u001b[43m)\u001b[49m, rate\u001b[38;5;241m=\u001b[39m\u001b[38;5;241m16000\u001b[39m)\n",
      "File \u001b[0;32m~/miniconda3/envs/d2l/lib/python3.8/site-packages/pretty_midi/pretty_midi.py:945\u001b[0m, in \u001b[0;36mPrettyMIDI.fluidsynth\u001b[0;34m(self, fs, sf2_path)\u001b[0m\n\u001b[1;32m    943\u001b[0m     \u001b[38;5;28;01mreturn\u001b[39;00m np\u001b[38;5;241m.\u001b[39marray([])\n\u001b[1;32m    944\u001b[0m \u001b[38;5;66;03m# Get synthesized waveform for each instrument\u001b[39;00m\n\u001b[0;32m--> 945\u001b[0m waveforms \u001b[38;5;241m=\u001b[39m [i\u001b[38;5;241m.\u001b[39mfluidsynth(fs\u001b[38;5;241m=\u001b[39mfs,\n\u001b[1;32m    946\u001b[0m                           sf2_path\u001b[38;5;241m=\u001b[39msf2_path) \u001b[38;5;28;01mfor\u001b[39;00m i \u001b[38;5;129;01min\u001b[39;00m \u001b[38;5;28mself\u001b[39m\u001b[38;5;241m.\u001b[39minstruments]\n\u001b[1;32m    947\u001b[0m \u001b[38;5;66;03m# Allocate output waveform, with #sample = max length of all waveforms\u001b[39;00m\n\u001b[1;32m    948\u001b[0m synthesized \u001b[38;5;241m=\u001b[39m np\u001b[38;5;241m.\u001b[39mzeros(np\u001b[38;5;241m.\u001b[39mmax([w\u001b[38;5;241m.\u001b[39mshape[\u001b[38;5;241m0\u001b[39m] \u001b[38;5;28;01mfor\u001b[39;00m w \u001b[38;5;129;01min\u001b[39;00m waveforms]))\n",
      "File \u001b[0;32m~/miniconda3/envs/d2l/lib/python3.8/site-packages/pretty_midi/pretty_midi.py:945\u001b[0m, in \u001b[0;36m<listcomp>\u001b[0;34m(.0)\u001b[0m\n\u001b[1;32m    943\u001b[0m     \u001b[38;5;28;01mreturn\u001b[39;00m np\u001b[38;5;241m.\u001b[39marray([])\n\u001b[1;32m    944\u001b[0m \u001b[38;5;66;03m# Get synthesized waveform for each instrument\u001b[39;00m\n\u001b[0;32m--> 945\u001b[0m waveforms \u001b[38;5;241m=\u001b[39m [\u001b[43mi\u001b[49m\u001b[38;5;241;43m.\u001b[39;49m\u001b[43mfluidsynth\u001b[49m\u001b[43m(\u001b[49m\u001b[43mfs\u001b[49m\u001b[38;5;241;43m=\u001b[39;49m\u001b[43mfs\u001b[49m\u001b[43m,\u001b[49m\n\u001b[1;32m    946\u001b[0m \u001b[43m                          \u001b[49m\u001b[43msf2_path\u001b[49m\u001b[38;5;241;43m=\u001b[39;49m\u001b[43msf2_path\u001b[49m\u001b[43m)\u001b[49m \u001b[38;5;28;01mfor\u001b[39;00m i \u001b[38;5;129;01min\u001b[39;00m \u001b[38;5;28mself\u001b[39m\u001b[38;5;241m.\u001b[39minstruments]\n\u001b[1;32m    947\u001b[0m \u001b[38;5;66;03m# Allocate output waveform, with #sample = max length of all waveforms\u001b[39;00m\n\u001b[1;32m    948\u001b[0m synthesized \u001b[38;5;241m=\u001b[39m np\u001b[38;5;241m.\u001b[39mzeros(np\u001b[38;5;241m.\u001b[39mmax([w\u001b[38;5;241m.\u001b[39mshape[\u001b[38;5;241m0\u001b[39m] \u001b[38;5;28;01mfor\u001b[39;00m w \u001b[38;5;129;01min\u001b[39;00m waveforms]))\n",
      "File \u001b[0;32m~/miniconda3/envs/d2l/lib/python3.8/site-packages/pretty_midi/instrument.py:456\u001b[0m, in \u001b[0;36mInstrument.fluidsynth\u001b[0;34m(self, fs, sf2_path)\u001b[0m\n\u001b[1;32m    453\u001b[0m     sf2_path \u001b[38;5;241m=\u001b[39m pkg_resources\u001b[38;5;241m.\u001b[39mresource_filename(\u001b[38;5;18m__name__\u001b[39m, DEFAULT_SF2)\n\u001b[1;32m    455\u001b[0m \u001b[38;5;28;01mif\u001b[39;00m \u001b[38;5;129;01mnot\u001b[39;00m _HAS_FLUIDSYNTH:\n\u001b[0;32m--> 456\u001b[0m     \u001b[38;5;28;01mraise\u001b[39;00m \u001b[38;5;167;01mImportError\u001b[39;00m(\u001b[38;5;124m\"\u001b[39m\u001b[38;5;124mfluidsynth() was called but pyfluidsynth \u001b[39m\u001b[38;5;124m\"\u001b[39m\n\u001b[1;32m    457\u001b[0m                       \u001b[38;5;124m\"\u001b[39m\u001b[38;5;124mis not installed.\u001b[39m\u001b[38;5;124m\"\u001b[39m)\n\u001b[1;32m    459\u001b[0m \u001b[38;5;28;01mif\u001b[39;00m \u001b[38;5;129;01mnot\u001b[39;00m os\u001b[38;5;241m.\u001b[39mpath\u001b[38;5;241m.\u001b[39mexists(sf2_path):\n\u001b[1;32m    460\u001b[0m     \u001b[38;5;28;01mraise\u001b[39;00m \u001b[38;5;167;01mValueError\u001b[39;00m(\u001b[38;5;124m\"\u001b[39m\u001b[38;5;124mNo soundfont file found at the supplied path \u001b[39m\u001b[38;5;124m\"\u001b[39m\n\u001b[1;32m    461\u001b[0m                      \u001b[38;5;124m\"\u001b[39m\u001b[38;5;132;01m{}\u001b[39;00m\u001b[38;5;124m\"\u001b[39m\u001b[38;5;241m.\u001b[39mformat(sf2_path))\n",
      "\u001b[0;31mImportError\u001b[0m: fluidsynth() was called but pyfluidsynth is not installed."
     ]
    }
   ],
   "source": [
    "# the original file music\n",
    "ipd.Audio(pm_old.fluidsynth(fs=16000), rate=16000)"
   ]
  },
  {
   "cell_type": "code",
   "execution_count": null,
   "id": "1d5dfba8",
   "metadata": {},
   "outputs": [],
   "source": [
    "# the filtered new file music\n",
    "# it concatenates 4 bar sections with both melody and bass tracks\n",
    "ipd.Audio(pm_new.fluidsynth(fs=16000), rate=16000)"
   ]
  },
  {
   "cell_type": "code",
   "execution_count": null,
   "id": "a8df3243",
   "metadata": {},
   "outputs": [],
   "source": [
    "#@title select the tension manipulations included\n",
    "\n",
    "#@markdown the manipulations selected will be randomly applied to every 8 bars\n",
    "#@markdown \n",
    "\n",
    "\n",
    "\n",
    "tensile_strain_direction = \"yes\" #@param [\"yes\", \"no\"]\n",
    "diameter_direction = \"no\" #@param [\"yes\", \"no\"] {type:\"string\"}\n",
    "\n",
    "tensile_strain_level = \"no\" #@param [\"yes\", \"no\"]\n",
    "diameter_level = \"yes\" #@param [\"yes\", \"no\"]\n",
    "\n",
    "tensile_strain_up_down = \"yes\" #@param [\"yes\", \"no\"]\n",
    "\n",
    "#@markdown select first 4 bar tension change factor sign for every 8 bar\n",
    "\n",
    "first_change = \"positive\" #@param [\"positive\", \"negative\"]\n",
    "\n",
    "#@markdown select the tension strain change factor\n",
    "tensile_strain_factor = 6 #@param {type:\"slider\", min:1, max:7, step:0.5}\n",
    "\n",
    "#@markdown select the diameter change factor\n",
    "diameter_factor = 3.5 #@param {type:\"slider\", min:0.5, max:4, step:0.5}\n",
    "\n",
    "\n",
    "feature_vectors = []\n",
    "\n",
    "\n",
    "if tensile_strain_direction == 'yes':\n",
    "    feature_vectors.append(tensile_up_feature_vector)\n",
    "\n",
    "if diameter_direction == 'yes':\n",
    "    feature_vectors.append(diameter_up_feature_vector)\n",
    "\n",
    "if tensile_strain_level == 'yes':\n",
    "    feature_vectors.append(tensile_high_feature_vector)\n",
    "\n",
    "if diameter_level == 'yes':\n",
    "    feature_vectors.append(diameter_high_feature_vector)\n",
    "\n",
    "if tensile_strain_up_down == 'yes':\n",
    "    feature_vectors.append(tensile_up_down_feature_vector)\n"
   ]
  },
  {
   "cell_type": "code",
   "execution_count": null,
   "id": "41f56be0",
   "metadata": {},
   "outputs": [],
   "source": [
    "result_roll, tensile_strain, diameter = four_bar_iterate(piano_roll_new,model,\n",
    "                                                          feature_vectors,\n",
    "                                                         tensile_strain_factor,\n",
    "                                                         diameter_factor,\n",
    "                                                         first_change)"
   ]
  },
  {
   "cell_type": "code",
   "execution_count": null,
   "id": "1e28fb8a",
   "metadata": {},
   "outputs": [],
   "source": [
    "# pm_new = util.roll_to_pretty_midi(piano_roll_new,pm_old)\n",
    "# print('original score')\n",
    "# util.show_score(pm_new)\n",
    "pm_result = util.roll_to_pretty_midi(result_roll,pm_old)\n",
    "ipd.Audio(pm_result.fluidsynth(fs=16000), rate=16000)"
   ]
  },
  {
   "cell_type": "code",
   "execution_count": null,
   "id": "a9c5e8c0",
   "metadata": {},
   "outputs": [],
   "source": [
    "print('new score')\n",
    "util.show_score(pm_result)"
   ]
  },
  {
   "cell_type": "code",
   "execution_count": null,
   "id": "9158d146",
   "metadata": {},
   "outputs": [],
   "source": [
    "# the changed music\n",
    "pm_result.write('./all_changed.mid')\n",
    "files.download('./all_changed.mid')"
   ]
  },
  {
   "cell_type": "code",
   "execution_count": null,
   "id": "e36ceb23",
   "metadata": {},
   "outputs": [],
   "source": [
    "#@title Please select start and end bar\n",
    "#@markdown the selected bar length should be 4 bar or 8 bar\n",
    "\n",
    "start_section = 9 #@param {type:\"integer\"}\n",
    "end_section = 17 #@param {type:\"integer\"}\n"
   ]
  },
  {
   "cell_type": "code",
   "execution_count": null,
   "id": "dd307b04",
   "metadata": {},
   "outputs": [],
   "source": [
    "tensile_strain_direction1 = False #@param [\"False\", \"True\"] {type:\"raw\"}\n",
    "tensile_strain_factor1 = 5.5 #@param {type:\"slider\", min:-8, max:8, step:0.5}\n",
    "\n",
    "diameter_level1 = True #@param [\"False\", \"True\"] {type:\"raw\"}\n",
    "diameter_factor1 = 4 #@param {type:\"slider\", min:-4, max:4, step:0.5}\n",
    "\n",
    "#@markdown second 4 bar (optional)\n",
    "\n",
    "tensile_strain_direction2 = True #@param [\"False\", \"True\"] {type:\"raw\"}\n",
    "tensile_strain_factor2 = -6 #@param {type:\"slider\", min:-8, max:8, step:0.5}\n",
    "\n",
    "diameter_level2 = False #@param [\"False\", \"True\"] {type:\"raw\"}\n",
    "diameter_factor2 = -4 #@param {type:\"slider\", min:-4, max:4, step:0.5}\n"
   ]
  },
  {
   "cell_type": "code",
   "execution_count": null,
   "id": "bf1c56bf",
   "metadata": {},
   "outputs": [],
   "source": [
    "selected_roll1 = piano_roll_new[16*(start_section-1):16*(start_section + 4-1)]\n",
    "print('first four bar tension')\n",
    "_,result_roll1 = build_model.manipuate_latent_space(selected_roll1,tensile_up_feature_vector,\n",
    "                                    diameter_high_feature_vector,\n",
    "                                    tensile_up_down_feature_vector,\n",
    "                                    model,tensile_strain_factor1,\n",
    "                                    diameter_factor1,0,\n",
    "                                    tensile_strain_direction1,diameter_level1,False,\n",
    "                                    True,True)\n",
    "\n",
    "\n",
    "\n",
    "if end_section-start_section>4:\n",
    "    selected_roll2 = piano_roll_new[16*(start_section + 3):16*(end_section-1)]\n",
    "    print('second four bar tension')\n",
    "    _,result_roll2 = build_model.manipuate_latent_space(selected_roll2,tensile_up_feature_vector,\n",
    "                                    diameter_high_feature_vector,\n",
    "                                    tensile_up_down_feature_vector,\n",
    "                                    model,tensile_strain_factor2,\n",
    "                                    diameter_factor2,0,\n",
    "                                    tensile_strain_direction2,diameter_level2,False,\n",
    "                                    True,True)\n",
    "\n",
    "\n",
    "    result_roll = np.vstack([result_roll1,result_roll2])\n",
    "    original_roll = piano_roll_new[16*(start_section-1):16*(end_section-1)]\n",
    "else:\n",
    "    result_roll = result_roll1\n",
    "    original_roll = selected_roll1\n",
    "\n",
    "\n",
    "\n",
    "pm_original = util.roll_to_pretty_midi(original_roll,pm_old)\n",
    "pm_new = util.roll_to_pretty_midi(result_roll,pm_old)"
   ]
  },
  {
   "cell_type": "code",
   "execution_count": null,
   "id": "278830a4",
   "metadata": {},
   "outputs": [],
   "source": [
    "# changed music\n",
    "ipd.Audio(pm_new.fluidsynth(fs=16000), rate=16000)"
   ]
  },
  {
   "cell_type": "code",
   "execution_count": null,
   "id": "41035f9b",
   "metadata": {},
   "outputs": [],
   "source": [
    "# original music\n",
    "ipd.Audio(pm_original.fluidsynth(fs=16000), rate=16000)"
   ]
  },
  {
   "cell_type": "code",
   "execution_count": null,
   "id": "dad9c451",
   "metadata": {},
   "outputs": [],
   "source": [
    "# show score\n",
    "print('original score')\n",
    "util.show_score(pm_original)\n",
    "print('new score')\n",
    "util.show_score(pm_new)"
   ]
  },
  {
   "cell_type": "code",
   "execution_count": null,
   "id": "ad497021",
   "metadata": {},
   "outputs": [],
   "source": []
  }
 ],
 "metadata": {
  "kernelspec": {
   "display_name": "Python 3.8.13 64-bit ('d2l')",
   "language": "python",
   "name": "python3"
  },
  "language_info": {
   "codemirror_mode": {
    "name": "ipython",
    "version": 3
   },
   "file_extension": ".py",
   "mimetype": "text/x-python",
   "name": "python",
   "nbconvert_exporter": "python",
   "pygments_lexer": "ipython3",
   "version": "3.8.13"
  },
  "vscode": {
   "interpreter": {
    "hash": "939cff1ff54c5eb1a96b347fc51c4d4d113fe838ce5dd0e144bcad872145d86a"
   }
  }
 },
 "nbformat": 4,
 "nbformat_minor": 5
}
