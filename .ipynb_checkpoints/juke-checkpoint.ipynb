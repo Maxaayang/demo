{
 "cells": [
  {
   "cell_type": "code",
   "execution_count": null,
   "id": "1c3dd85a",
   "metadata": {},
   "outputs": [],
   "source": [
    "# cd demo/\n",
    "# !apt install musescore fluidsynth\n",
    "# !pip install music21 pyFluidSynth\n",
    "# !pip install pretty_midi\n",
    "# !git clone https://github.com/Maxaayang/demo.git"
   ]
  },
  {
   "cell_type": "code",
   "execution_count": 1,
   "id": "f59e0b4f",
   "metadata": {},
   "outputs": [],
   "source": [
    "import model1 as model\n",
    "import util\n",
    "from preprocess_midi import *\n",
    "from juke.vqvae import VQVAE\n",
    "from juke.params import *\n",
    "\n",
    "import pickle\n",
    "import torch\n",
    "import IPython.display as ipd\n",
    "import os\n",
    "import sys\n",
    "import pretty_midi\n",
    "import numpy as np\n",
    "# from google.colab import files"
   ]
  },
  {
   "cell_type": "code",
   "execution_count": 3,
   "id": "554ec7ea",
   "metadata": {},
   "outputs": [
    {
     "name": "stdout",
     "output_type": "stream",
     "text": [
      "input_emb_width:  89\n",
      "width:  128\n",
      "output_emb_width:  64\n",
      "input_emb_width:  89\n",
      "width:  128\n",
      "output_emb_width:  64\n",
      "input_emb_width:  64\n",
      "width:  128\n",
      "output_emb_width:  64\n",
      "Model from scratch\n"
     ]
    },
    {
     "ename": "ModuleNotFoundError",
     "evalue": "No module named 'vqvae'",
     "output_type": "error",
     "traceback": [
      "\u001b[0;31m---------------------------------------------------------------------------\u001b[0m",
      "\u001b[0;31mModuleNotFoundError\u001b[0m                       Traceback (most recent call last)",
      "Input \u001b[0;32mIn [3]\u001b[0m, in \u001b[0;36m<cell line: 4>\u001b[0;34m()\u001b[0m\n\u001b[1;32m      1\u001b[0m \u001b[38;5;66;03m# model = model.VQVAE()\u001b[39;00m\n\u001b[1;32m      2\u001b[0m \u001b[38;5;66;03m# vqvae = torch.load(\"./model/model10000.pth\")\u001b[39;00m\n\u001b[1;32m      3\u001b[0m vqvae \u001b[38;5;241m=\u001b[39m make_vqvae(hps)\n\u001b[0;32m----> 4\u001b[0m vqvae\u001b[38;5;241m.\u001b[39mstate_dict \u001b[38;5;241m=\u001b[39m \u001b[43mtorch\u001b[49m\u001b[38;5;241;43m.\u001b[39;49m\u001b[43mload\u001b[49m\u001b[43m(\u001b[49m\u001b[38;5;124;43m\"\u001b[39;49m\u001b[38;5;124;43m./model/juke20000.pth\u001b[39;49m\u001b[38;5;124;43m\"\u001b[39;49m\u001b[43m)\u001b[49m\n\u001b[1;32m      5\u001b[0m vqvae \u001b[38;5;241m=\u001b[39m vqvae\u001b[38;5;241m.\u001b[39mto(\u001b[38;5;124m'\u001b[39m\u001b[38;5;124mcuda:0\u001b[39m\u001b[38;5;124m'\u001b[39m)\n",
      "File \u001b[0;32m~/miniconda3/envs/col/lib/python3.9/site-packages/torch/serialization.py:712\u001b[0m, in \u001b[0;36mload\u001b[0;34m(f, map_location, pickle_module, **pickle_load_args)\u001b[0m\n\u001b[1;32m    710\u001b[0m             opened_file\u001b[38;5;241m.\u001b[39mseek(orig_position)\n\u001b[1;32m    711\u001b[0m             \u001b[38;5;28;01mreturn\u001b[39;00m torch\u001b[38;5;241m.\u001b[39mjit\u001b[38;5;241m.\u001b[39mload(opened_file)\n\u001b[0;32m--> 712\u001b[0m         \u001b[38;5;28;01mreturn\u001b[39;00m \u001b[43m_load\u001b[49m\u001b[43m(\u001b[49m\u001b[43mopened_zipfile\u001b[49m\u001b[43m,\u001b[49m\u001b[43m \u001b[49m\u001b[43mmap_location\u001b[49m\u001b[43m,\u001b[49m\u001b[43m \u001b[49m\u001b[43mpickle_module\u001b[49m\u001b[43m,\u001b[49m\u001b[43m \u001b[49m\u001b[38;5;241;43m*\u001b[39;49m\u001b[38;5;241;43m*\u001b[39;49m\u001b[43mpickle_load_args\u001b[49m\u001b[43m)\u001b[49m\n\u001b[1;32m    713\u001b[0m \u001b[38;5;28;01mreturn\u001b[39;00m _legacy_load(opened_file, map_location, pickle_module, \u001b[38;5;241m*\u001b[39m\u001b[38;5;241m*\u001b[39mpickle_load_args)\n",
      "File \u001b[0;32m~/miniconda3/envs/col/lib/python3.9/site-packages/torch/serialization.py:1049\u001b[0m, in \u001b[0;36m_load\u001b[0;34m(zip_file, map_location, pickle_module, pickle_file, **pickle_load_args)\u001b[0m\n\u001b[1;32m   1047\u001b[0m unpickler \u001b[38;5;241m=\u001b[39m UnpicklerWrapper(data_file, \u001b[38;5;241m*\u001b[39m\u001b[38;5;241m*\u001b[39mpickle_load_args)\n\u001b[1;32m   1048\u001b[0m unpickler\u001b[38;5;241m.\u001b[39mpersistent_load \u001b[38;5;241m=\u001b[39m persistent_load\n\u001b[0;32m-> 1049\u001b[0m result \u001b[38;5;241m=\u001b[39m \u001b[43munpickler\u001b[49m\u001b[38;5;241;43m.\u001b[39;49m\u001b[43mload\u001b[49m\u001b[43m(\u001b[49m\u001b[43m)\u001b[49m\n\u001b[1;32m   1051\u001b[0m torch\u001b[38;5;241m.\u001b[39m_utils\u001b[38;5;241m.\u001b[39m_validate_loaded_sparse_tensors()\n\u001b[1;32m   1053\u001b[0m \u001b[38;5;28;01mreturn\u001b[39;00m result\n",
      "File \u001b[0;32m~/miniconda3/envs/col/lib/python3.9/site-packages/torch/serialization.py:1042\u001b[0m, in \u001b[0;36m_load.<locals>.UnpicklerWrapper.find_class\u001b[0;34m(self, mod_name, name)\u001b[0m\n\u001b[1;32m   1040\u001b[0m         \u001b[38;5;28;01mpass\u001b[39;00m\n\u001b[1;32m   1041\u001b[0m mod_name \u001b[38;5;241m=\u001b[39m load_module_mapping\u001b[38;5;241m.\u001b[39mget(mod_name, mod_name)\n\u001b[0;32m-> 1042\u001b[0m \u001b[38;5;28;01mreturn\u001b[39;00m \u001b[38;5;28;43msuper\u001b[39;49m\u001b[43m(\u001b[49m\u001b[43m)\u001b[49m\u001b[38;5;241;43m.\u001b[39;49m\u001b[43mfind_class\u001b[49m\u001b[43m(\u001b[49m\u001b[43mmod_name\u001b[49m\u001b[43m,\u001b[49m\u001b[43m \u001b[49m\u001b[43mname\u001b[49m\u001b[43m)\u001b[49m\n",
      "\u001b[0;31mModuleNotFoundError\u001b[0m: No module named 'vqvae'"
     ]
    }
   ],
   "source": [
    "model = VQVAE(input_shape, levels, downs_t, strides_t, emb_width, l_bins, mu, commit, \\\n",
    "              spectral, multispectral, multipliers, use_bottleneck, **block_kwargs)\n",
    "model.state_dict = torch.load(\"./model/juke_vae20.pth\")\n",
    "model = vqvae.to('cuda:0')"
   ]
  },
  {
   "cell_type": "code",
   "execution_count": null,
   "id": "40eeced6",
   "metadata": {},
   "outputs": [],
   "source": [
    "melody_file = './r_data/crying_sand.mid'"
   ]
  },
  {
   "cell_type": "code",
   "execution_count": null,
   "id": "4ab2c7c6",
   "metadata": {},
   "outputs": [],
   "source": [
    "piano_roll, bar_indices,pm_old = preprocess_midi(melody_file)\n",
    "piano_roll_new = np.reshape(piano_roll,(-1,piano_roll.shape[-1]))\n",
    "pm_new = util.roll_to_pretty_midi(piano_roll_new,pm_old)"
   ]
  },
  {
   "cell_type": "code",
   "execution_count": null,
   "id": "7af35aab",
   "metadata": {},
   "outputs": [],
   "source": [
    "# the original file music\n",
    "ipd.Audio(pm_old.fluidsynth(fs=16000), rate=16000)"
   ]
  },
  {
   "cell_type": "code",
   "execution_count": null,
   "id": "3cf098cd",
   "metadata": {},
   "outputs": [],
   "source": [
    "# the filtered new file music\n",
    "# it concatenates 4 bar sections with both melody and bass tracks\n",
    "ipd.Audio(pm_new.fluidsynth(fs=16000), rate=16000)"
   ]
  },
  {
   "cell_type": "code",
   "execution_count": null,
   "id": "61370544",
   "metadata": {},
   "outputs": [],
   "source": [
    "#@title select the tension manipulations included\n",
    "\n",
    "#@markdown the manipulations selected will be randomly applied to every 8 bars\n",
    "#@markdown \n",
    "\n",
    "\n",
    "\n",
    "tensile_strain_direction = \"yes\" #@param [\"yes\", \"no\"]\n",
    "diameter_direction = \"no\" #@param [\"yes\", \"no\"] {type:\"string\"}\n",
    "\n",
    "tensile_strain_level = \"no\" #@param [\"yes\", \"no\"]\n",
    "diameter_level = \"yes\" #@param [\"yes\", \"no\"]\n",
    "\n",
    "tensile_strain_up_down = \"yes\" #@param [\"yes\", \"no\"]\n",
    "\n",
    "#@markdown select first 4 bar tension change factor sign for every 8 bar\n",
    "\n",
    "first_change = \"positive\" #@param [\"positive\", \"negative\"]\n",
    "\n",
    "#@markdown select the tension strain change factor\n",
    "tensile_strain_factor = 6 #@param {type:\"slider\", min:1, max:7, step:0.5}\n",
    "\n",
    "#@markdown select the diameter change factor\n",
    "diameter_factor = 3.5 #@param {type:\"slider\", min:0.5, max:4, step:0.5}\n",
    "\n",
    "\n",
    "feature_vectors = []\n",
    "\n",
    "\n",
    "if tensile_strain_direction == 'yes':\n",
    "    feature_vectors.append(tensile_up_feature_vector)\n",
    "\n",
    "if diameter_direction == 'yes':\n",
    "    feature_vectors.append(diameter_up_feature_vector)\n",
    "\n",
    "if tensile_strain_level == 'yes':\n",
    "    feature_vectors.append(tensile_high_feature_vector)\n",
    "\n",
    "if diameter_level == 'yes':\n",
    "    feature_vectors.append(diameter_high_feature_vector)\n",
    "\n",
    "if tensile_strain_up_down == 'yes':\n",
    "    feature_vectors.append(tensile_up_down_feature_vector)\n"
   ]
  },
  {
   "cell_type": "code",
   "execution_count": null,
   "id": "a2c17f87",
   "metadata": {},
   "outputs": [],
   "source": [
    "# import pdb; pdb.set_trace()\n",
    "result_roll, tensile_strain, diameter = four_bar_iterate(piano_roll_new,vqvae,\n",
    "                                                          feature_vectors,\n",
    "                                                         tensile_strain_factor,\n",
    "                                                         diameter_factor,\n",
    "                                                         first_change)"
   ]
  },
  {
   "cell_type": "code",
   "execution_count": null,
   "id": "84587316",
   "metadata": {},
   "outputs": [],
   "source": [
    "# pm_new = util.roll_to_pretty_midi(piano_roll_new,pm_old)\n",
    "# print('original score')\n",
    "# util.show_score(pm_new)\n",
    "pm_result = util.roll_to_pretty_midi(result_roll,pm_old)\n",
    "ipd.Audio(pm_result.fluidsynth(fs=16000), rate=16000)"
   ]
  },
  {
   "cell_type": "code",
   "execution_count": null,
   "id": "617955a8",
   "metadata": {},
   "outputs": [],
   "source": [
    "# print('new score')\n",
    "# util.show_score(pm_result)"
   ]
  },
  {
   "cell_type": "code",
   "execution_count": null,
   "id": "07a07ae7",
   "metadata": {},
   "outputs": [],
   "source": [
    "# the changed music\n",
    "# pm_result.write('./all_changed.mid')\n",
    "# files.download('./all_changed.mid')"
   ]
  },
  {
   "cell_type": "code",
   "execution_count": null,
   "id": "69918581",
   "metadata": {},
   "outputs": [],
   "source": [
    "#@title Please select start and end bar\n",
    "#@markdown the selected bar length should be 4 bar or 8 bar\n",
    "\n",
    "start_section = 9 #@param {type:\"integer\"}\n",
    "end_section = 17 #@param {type:\"integer\"}\n"
   ]
  },
  {
   "cell_type": "code",
   "execution_count": null,
   "id": "516765df",
   "metadata": {},
   "outputs": [],
   "source": [
    "tensile_strain_direction1 = False #@param [\"False\", \"True\"] {type:\"raw\"}\n",
    "tensile_strain_factor1 = 5.5 #@param {type:\"slider\", min:-8, max:8, step:0.5}\n",
    "\n",
    "diameter_level1 = True #@param [\"False\", \"True\"] {type:\"raw\"}\n",
    "diameter_factor1 = 4 #@param {type:\"slider\", min:-4, max:4, step:0.5}\n",
    "\n",
    "#@markdown second 4 bar (optional)\n",
    "\n",
    "tensile_strain_direction2 = True #@param [\"False\", \"True\"] {type:\"raw\"}\n",
    "tensile_strain_factor2 = -6 #@param {type:\"slider\", min:-8, max:8, step:0.5}\n",
    "\n",
    "diameter_level2 = False #@param [\"False\", \"True\"] {type:\"raw\"}\n",
    "diameter_factor2 = -4 #@param {type:\"slider\", min:-4, max:4, step:0.5}\n"
   ]
  },
  {
   "cell_type": "code",
   "execution_count": null,
   "id": "ca1f41f4",
   "metadata": {},
   "outputs": [],
   "source": [
    "# import pdb; pdb.set_trace()\n",
    "selected_roll1 = piano_roll_new[16*(start_section-1):16*(start_section + 4-1)]\n",
    "print('first four bar tension')\n",
    "_,result_roll1 = model.manipuate_latent_space(selected_roll1,tensile_up_feature_vector,\n",
    "                                    diameter_high_feature_vector,\n",
    "                                    tensile_up_down_feature_vector,\n",
    "                                    vqvae,tensile_strain_factor1,\n",
    "                                    diameter_factor1,0,\n",
    "                                    tensile_strain_direction1,diameter_level1,False,\n",
    "                                    True,True)\n",
    "\n",
    "\n",
    "\n",
    "if end_section-start_section>4:\n",
    "    selected_roll2 = piano_roll_new[16*(start_section + 3):16*(end_section-1)]\n",
    "    print('second four bar tension')\n",
    "    _,result_roll2 = model.manipuate_latent_space(selected_roll2,tensile_up_feature_vector,\n",
    "                                    diameter_high_feature_vector,\n",
    "                                    tensile_up_down_feature_vector,\n",
    "                                    vqvae,tensile_strain_factor2,\n",
    "                                    diameter_factor2,0,\n",
    "                                    tensile_strain_direction2,diameter_level2,False,\n",
    "                                    True,True)\n",
    "\n",
    "\n",
    "    result_roll = np.vstack([result_roll1,result_roll2])\n",
    "    original_roll = piano_roll_new[16*(start_section-1):16*(end_section-1)]\n",
    "else:\n",
    "    result_roll = result_roll1\n",
    "    original_roll = selected_roll1\n",
    "\n",
    "\n",
    "\n",
    "pm_original = util.roll_to_pretty_midi(original_roll,pm_old)\n",
    "pm_new = util.roll_to_pretty_midi(result_roll,pm_old)"
   ]
  },
  {
   "cell_type": "code",
   "execution_count": null,
   "id": "5e988536",
   "metadata": {},
   "outputs": [],
   "source": [
    "# changed music\n",
    "ipd.Audio(pm_new.fluidsynth(fs=16000), rate=16000)"
   ]
  },
  {
   "cell_type": "code",
   "execution_count": null,
   "id": "bea0cf7c",
   "metadata": {},
   "outputs": [],
   "source": [
    "# original music\n",
    "ipd.Audio(pm_original.fluidsynth(fs=16000), rate=16000)"
   ]
  },
  {
   "cell_type": "code",
   "execution_count": null,
   "id": "91f600e3",
   "metadata": {},
   "outputs": [],
   "source": [
    "# show score\n",
    "# print('original score')\n",
    "# util.show_score(pm_original)\n",
    "# print('new score')\n",
    "# util.show_score(pm_new)"
   ]
  },
  {
   "cell_type": "code",
   "execution_count": null,
   "id": "b44d24e4",
   "metadata": {},
   "outputs": [],
   "source": []
  }
 ],
 "metadata": {
  "kernelspec": {
   "display_name": "col",
   "language": "python",
   "name": "col"
  },
  "language_info": {
   "codemirror_mode": {
    "name": "ipython",
    "version": 3
   },
   "file_extension": ".py",
   "mimetype": "text/x-python",
   "name": "python",
   "nbconvert_exporter": "python",
   "pygments_lexer": "ipython3",
   "version": "3.9.13"
  },
  "vscode": {
   "interpreter": {
    "hash": "31f2aee4e71d21fbe5cf8b01ff0e069b9275f58929596ceb00d14d90e3e16cd6"
   }
  }
 },
 "nbformat": 4,
 "nbformat_minor": 5
}
